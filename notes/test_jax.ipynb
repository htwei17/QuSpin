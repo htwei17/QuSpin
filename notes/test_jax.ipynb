{
 "cells": [
  {
   "cell_type": "code",
   "execution_count": 26,
   "metadata": {},
   "outputs": [
    {
     "name": "stdout",
     "output_type": "stream",
     "text": [
      "[ 2. 28.]\n",
      "8\n",
      "28.0\n",
      "28.0\n"
     ]
    }
   ],
   "source": [
    "import jax.numpy as jnp\n",
    "import numpy as np\n",
    "import jax\n",
    "\n",
    "@jax.jit\n",
    "def f(x):\n",
    "    return jnp.sum(-x**2 + x**4)\n",
    "\n",
    "x0 = np.array([1., 2.], dtype=np.float32)\n",
    "print(jax.grad(f)(x0))\n",
    "print(x0.nbytes)\n",
    "print(jax.grad(f)(2.))\n",
    "x0s = np.array(2.)\n",
    "print(jax.grad(f)(x0s))"
   ]
  },
  {
   "cell_type": "code",
   "execution_count": 49,
   "metadata": {},
   "outputs": [
    {
     "data": {
      "text/plain": [
       "array([0., 0.])"
      ]
     },
     "execution_count": 49,
     "metadata": {},
     "output_type": "execute_result"
    }
   ],
   "source": [
    "ME = np.zeros((2, 2))\n",
    "ME = ME[0]\n",
    "n=5\n",
    "ME *= (1<<n)\n",
    "ME"
   ]
  },
  {
   "cell_type": "code",
   "execution_count": 15,
   "metadata": {},
   "outputs": [
    {
     "data": {
      "text/plain": [
       "8"
      ]
     },
     "execution_count": 15,
     "metadata": {},
     "output_type": "execute_result"
    }
   ],
   "source": [
    "x0j = jnp.array([1., 2.], dtype=np.float32)\n",
    "x0j.nbytes"
   ]
  },
  {
   "cell_type": "code",
   "execution_count": 11,
   "metadata": {},
   "outputs": [
    {
     "name": "stdout",
     "output_type": "stream",
     "text": [
      "True\n",
      "False\n"
     ]
    }
   ],
   "source": [
    "print(isinstance(x0, np.ndarray))\n",
    "print(isinstance(x0, jnp.ndarray))"
   ]
  },
  {
   "cell_type": "code",
   "execution_count": 4,
   "metadata": {},
   "outputs": [
    {
     "data": {
      "text/plain": [
       "False"
      ]
     },
     "execution_count": 4,
     "metadata": {},
     "output_type": "execute_result"
    }
   ],
   "source": [
    "jnp.isscalar(x0)"
   ]
  },
  {
   "cell_type": "code",
   "execution_count": 35,
   "metadata": {},
   "outputs": [
    {
     "name": "stdout",
     "output_type": "stream",
     "text": [
      "687 ms ± 14.8 ms per loop (mean ± std. dev. of 7 runs, 1 loop each)\n",
      "2.11 ms ± 45.5 µs per loop (mean ± std. dev. of 7 runs, 1,000 loops each)\n"
     ]
    }
   ],
   "source": [
    "import jax\n",
    "import jax.numpy as jnp\n",
    "from jax.scipy.optimize import minimize as jax_minimize\n",
    "from scipy.optimize import minimize\n",
    "\n",
    "@jax.jit\n",
    "def f(x):\n",
    "    return jnp.sum(-x**2 + x**4)\n",
    "\n",
    "N = 60\n",
    "%timeit jax_minimize(f, x0=np.random.rand(N).astype(np.float32), method='BFGS')\n",
    "%timeit minimize(f, x0=np.random.rand(N).astype(np.float32), method='BFGS')"
   ]
  },
  {
   "cell_type": "code",
   "execution_count": 1,
   "metadata": {},
   "outputs": [
    {
     "ename": "ImportError",
     "evalue": "cannot import name 'hcp_basis' from partially initialized module 'quspin.basis.basis_1d._basis_1d_core' (most likely due to a circular import) (/home/kvanti/Documents/QuSpin/notes/../quspin/basis/basis_1d/_basis_1d_core/__init__.py)",
     "output_type": "error",
     "traceback": [
      "\u001b[0;31m---------------------------------------------------------------------------\u001b[0m",
      "\u001b[0;31mImportError\u001b[0m                               Traceback (most recent call last)",
      "Cell \u001b[0;32mIn[1], line 5\u001b[0m\n\u001b[1;32m      2\u001b[0m qspin_path \u001b[39m=\u001b[39m os\u001b[39m.\u001b[39mpath\u001b[39m.\u001b[39mjoin(os\u001b[39m.\u001b[39mgetcwd(),\u001b[39m\"\u001b[39m\u001b[39m../\u001b[39m\u001b[39m\"\u001b[39m)\n\u001b[1;32m      3\u001b[0m sys\u001b[39m.\u001b[39mpath\u001b[39m.\u001b[39minsert(\u001b[39m0\u001b[39m,qspin_path)\n\u001b[0;32m----> 5\u001b[0m \u001b[39mfrom\u001b[39;00m \u001b[39mquspin\u001b[39;00m\u001b[39m.\u001b[39;00m\u001b[39moperators\u001b[39;00m\u001b[39m.\u001b[39;00m\u001b[39mhamiltonian_core\u001b[39;00m \u001b[39mimport\u001b[39;00m hamiltonian  \u001b[39m# Hamiltonians and operators\u001b[39;00m\n",
      "File \u001b[0;32m~/Documents/QuSpin/notes/../quspin/__init__.py:3\u001b[0m\n\u001b[1;32m      1\u001b[0m \u001b[39m# local modules\u001b[39;00m\n\u001b[1;32m      2\u001b[0m \u001b[39mimport\u001b[39;00m \u001b[39mnumpy\u001b[39;00m\u001b[39m,\u001b[39m\u001b[39mdill\u001b[39;00m\n\u001b[0;32m----> 3\u001b[0m \u001b[39mfrom\u001b[39;00m \u001b[39m.\u001b[39;00m \u001b[39mimport\u001b[39;00m operators\n\u001b[1;32m      4\u001b[0m \u001b[39mfrom\u001b[39;00m \u001b[39m.\u001b[39;00m \u001b[39mimport\u001b[39;00m basis\n\u001b[1;32m      5\u001b[0m \u001b[39mfrom\u001b[39;00m \u001b[39m.\u001b[39;00m \u001b[39mimport\u001b[39;00m tools\n",
      "File \u001b[0;32m~/Documents/QuSpin/notes/../quspin/operators/__init__.py:54\u001b[0m\n\u001b[1;32m      1\u001b[0m \u001b[39m\"\"\"\u001b[39;00m\n\u001b[1;32m      2\u001b[0m \u001b[39m==========================================\u001b[39;00m\n\u001b[1;32m      3\u001b[0m \u001b[39mOperators module (:mod:`quspin.operators`)\u001b[39;00m\n\u001b[0;32m   (...)\u001b[0m\n\u001b[1;32m     52\u001b[0m \n\u001b[1;32m     53\u001b[0m \u001b[39m\"\"\"\u001b[39;00m\n\u001b[0;32m---> 54\u001b[0m \u001b[39mfrom\u001b[39;00m \u001b[39m.\u001b[39;00m\u001b[39mquantum_operator_core\u001b[39;00m \u001b[39mimport\u001b[39;00m \u001b[39m*\u001b[39m\n\u001b[1;32m     55\u001b[0m \u001b[39mfrom\u001b[39;00m \u001b[39m.\u001b[39;00m\u001b[39mquantum_LinearOperator_core\u001b[39;00m \u001b[39mimport\u001b[39;00m \u001b[39m*\u001b[39m\n\u001b[1;32m     56\u001b[0m \u001b[39mfrom\u001b[39;00m \u001b[39m.\u001b[39;00m\u001b[39mhamiltonian_core\u001b[39;00m \u001b[39mimport\u001b[39;00m \u001b[39m*\u001b[39m\n",
      "File \u001b[0;32m~/Documents/QuSpin/notes/../quspin/operators/quantum_operator_core.py:3\u001b[0m\n\u001b[1;32m      1\u001b[0m \u001b[39mfrom\u001b[39;00m \u001b[39m__future__\u001b[39;00m \u001b[39mimport\u001b[39;00m print_function, division, absolute_import\n\u001b[0;32m----> 3\u001b[0m \u001b[39mfrom\u001b[39;00m \u001b[39m.\u001b[39;00m\u001b[39m.\u001b[39;00m\u001b[39mbasis\u001b[39;00m \u001b[39mimport\u001b[39;00m spin_basis_1d \u001b[39mas\u001b[39;00m _default_basis\n\u001b[1;32m      4\u001b[0m \u001b[39mfrom\u001b[39;00m \u001b[39m.\u001b[39;00m\u001b[39m.\u001b[39;00m\u001b[39mbasis\u001b[39;00m \u001b[39mimport\u001b[39;00m isbasis \u001b[39mas\u001b[39;00m _isbasis\n\u001b[1;32m      6\u001b[0m \u001b[39m#from ._oputils import _get_matvec_function, matvec as _matvec\u001b[39;00m\n",
      "File \u001b[0;32m~/Documents/QuSpin/notes/../quspin/basis/__init__.py:130\u001b[0m\n\u001b[1;32m      1\u001b[0m \u001b[39m\"\"\"\u001b[39;00m\n\u001b[1;32m      2\u001b[0m \u001b[39m==================================\u001b[39;00m\n\u001b[1;32m      3\u001b[0m \u001b[39mBasis module (:mod:`quspin.basis`)\u001b[39;00m\n\u001b[0;32m   (...)\u001b[0m\n\u001b[1;32m    128\u001b[0m \n\u001b[1;32m    129\u001b[0m \u001b[39m\"\"\"\u001b[39;00m\n\u001b[0;32m--> 130\u001b[0m \u001b[39mfrom\u001b[39;00m \u001b[39m.\u001b[39;00m\u001b[39mbasis_1d\u001b[39;00m \u001b[39mimport\u001b[39;00m \u001b[39m*\u001b[39m\n\u001b[1;32m    131\u001b[0m \u001b[39mfrom\u001b[39;00m \u001b[39m.\u001b[39;00m\u001b[39mbasis_general\u001b[39;00m \u001b[39mimport\u001b[39;00m \u001b[39m*\u001b[39m\n\u001b[1;32m    132\u001b[0m \u001b[39mfrom\u001b[39;00m \u001b[39m.\u001b[39;00m\u001b[39mbase\u001b[39;00m \u001b[39mimport\u001b[39;00m \u001b[39m*\u001b[39m\n",
      "File \u001b[0;32m~/Documents/QuSpin/notes/../quspin/basis/basis_1d/__init__.py:1\u001b[0m\n\u001b[0;32m----> 1\u001b[0m \u001b[39mfrom\u001b[39;00m \u001b[39m.\u001b[39;00m\u001b[39mspin\u001b[39;00m \u001b[39mimport\u001b[39;00m spin_basis_1d\n\u001b[1;32m      2\u001b[0m \u001b[39mfrom\u001b[39;00m \u001b[39m.\u001b[39;00m\u001b[39mboson\u001b[39;00m \u001b[39mimport\u001b[39;00m boson_basis_1d\n\u001b[1;32m      3\u001b[0m \u001b[39mfrom\u001b[39;00m \u001b[39m.\u001b[39;00m\u001b[39mfermion\u001b[39;00m \u001b[39mimport\u001b[39;00m spinless_fermion_basis_1d,spinful_fermion_basis_1d\n",
      "File \u001b[0;32m~/Documents/QuSpin/notes/../quspin/basis/basis_1d/spin.py:1\u001b[0m\n\u001b[0;32m----> 1\u001b[0m \u001b[39mfrom\u001b[39;00m \u001b[39m.\u001b[39;00m\u001b[39m_basis_1d_core\u001b[39;00m \u001b[39mimport\u001b[39;00m hcp_basis,hcp_ops\n\u001b[1;32m      2\u001b[0m \u001b[39mfrom\u001b[39;00m \u001b[39m.\u001b[39;00m\u001b[39m_basis_1d_core\u001b[39;00m \u001b[39mimport\u001b[39;00m boson_basis,boson_ops\n\u001b[1;32m      3\u001b[0m \u001b[39mfrom\u001b[39;00m \u001b[39m.\u001b[39;00m\u001b[39mbase_1d\u001b[39;00m \u001b[39mimport\u001b[39;00m basis_1d\n",
      "File \u001b[0;32m~/Documents/QuSpin/notes/../quspin/basis/basis_1d/_basis_1d_core/__init__.py:1\u001b[0m\n\u001b[0;32m----> 1\u001b[0m \u001b[39mfrom\u001b[39;00m \u001b[39m.\u001b[39;00m \u001b[39mimport\u001b[39;00m hcp_basis,hcp_ops\n\u001b[1;32m      2\u001b[0m \u001b[39mfrom\u001b[39;00m \u001b[39m.\u001b[39;00m \u001b[39mimport\u001b[39;00m boson_basis,boson_ops\n\u001b[1;32m      3\u001b[0m \u001b[39mfrom\u001b[39;00m \u001b[39m.\u001b[39;00m \u001b[39mimport\u001b[39;00m spf_basis,spf_ops\n",
      "\u001b[0;31mImportError\u001b[0m: cannot import name 'hcp_basis' from partially initialized module 'quspin.basis.basis_1d._basis_1d_core' (most likely due to a circular import) (/home/kvanti/Documents/QuSpin/notes/../quspin/basis/basis_1d/_basis_1d_core/__init__.py)"
     ]
    }
   ],
   "source": [
    "import sys,os\n",
    "qspin_path = os.path.join(os.getcwd(),\"../\")\n",
    "sys.path.insert(0,qspin_path)\n",
    "\n",
    "from quspin.operators.hamiltonian_core import hamiltonian  # Hamiltonians and operators"
   ]
  },
  {
   "cell_type": "code",
   "execution_count": 3,
   "metadata": {},
   "outputs": [
    {
     "ename": "ImportError",
     "evalue": "cannot import name 'hcp_basis' from partially initialized module 'quspin.basis.basis_1d._basis_1d_core' (most likely due to a circular import) (/home/kvanti/Documents/QuSpin/notes/../quspin/basis/basis_1d/_basis_1d_core/__init__.py)",
     "output_type": "error",
     "traceback": [
      "\u001b[0;31m---------------------------------------------------------------------------\u001b[0m",
      "\u001b[0;31mImportError\u001b[0m                               Traceback (most recent call last)",
      "Cell \u001b[0;32mIn[3], line 1\u001b[0m\n\u001b[0;32m----> 1\u001b[0m \u001b[39mfrom\u001b[39;00m \u001b[39mquspin\u001b[39;00m\u001b[39m.\u001b[39;00m\u001b[39moperators\u001b[39;00m \u001b[39mimport\u001b[39;00m hamiltonian_jax  \u001b[39m# Hamiltonians and operators\u001b[39;00m\n\u001b[1;32m      2\u001b[0m \u001b[39m# Hilbert space spinful fermion basis\u001b[39;00m\n\u001b[1;32m      3\u001b[0m \u001b[39mfrom\u001b[39;00m \u001b[39mquspin\u001b[39;00m\u001b[39m.\u001b[39;00m\u001b[39mbasis\u001b[39;00m \u001b[39mimport\u001b[39;00m spinless_fermion_basis_1d, tensor_basis\n",
      "File \u001b[0;32m~/Documents/QuSpin/notes/../quspin/__init__.py:3\u001b[0m\n\u001b[1;32m      1\u001b[0m \u001b[39m# local modules\u001b[39;00m\n\u001b[1;32m      2\u001b[0m \u001b[39mimport\u001b[39;00m \u001b[39mnumpy\u001b[39;00m\u001b[39m,\u001b[39m\u001b[39mdill\u001b[39;00m\n\u001b[0;32m----> 3\u001b[0m \u001b[39mfrom\u001b[39;00m \u001b[39m.\u001b[39;00m \u001b[39mimport\u001b[39;00m operators\n\u001b[1;32m      4\u001b[0m \u001b[39mfrom\u001b[39;00m \u001b[39m.\u001b[39;00m \u001b[39mimport\u001b[39;00m basis\n\u001b[1;32m      5\u001b[0m \u001b[39mfrom\u001b[39;00m \u001b[39m.\u001b[39;00m \u001b[39mimport\u001b[39;00m tools\n",
      "File \u001b[0;32m~/Documents/QuSpin/notes/../quspin/operators/__init__.py:54\u001b[0m\n\u001b[1;32m      1\u001b[0m \u001b[39m\"\"\"\u001b[39;00m\n\u001b[1;32m      2\u001b[0m \u001b[39m==========================================\u001b[39;00m\n\u001b[1;32m      3\u001b[0m \u001b[39mOperators module (:mod:`quspin.operators`)\u001b[39;00m\n\u001b[0;32m   (...)\u001b[0m\n\u001b[1;32m     52\u001b[0m \n\u001b[1;32m     53\u001b[0m \u001b[39m\"\"\"\u001b[39;00m\n\u001b[0;32m---> 54\u001b[0m \u001b[39mfrom\u001b[39;00m \u001b[39m.\u001b[39;00m\u001b[39mquantum_operator_core\u001b[39;00m \u001b[39mimport\u001b[39;00m \u001b[39m*\u001b[39m\n\u001b[1;32m     55\u001b[0m \u001b[39mfrom\u001b[39;00m \u001b[39m.\u001b[39;00m\u001b[39mquantum_LinearOperator_core\u001b[39;00m \u001b[39mimport\u001b[39;00m \u001b[39m*\u001b[39m\n\u001b[1;32m     56\u001b[0m \u001b[39mfrom\u001b[39;00m \u001b[39m.\u001b[39;00m\u001b[39mhamiltonian_core\u001b[39;00m \u001b[39mimport\u001b[39;00m \u001b[39m*\u001b[39m\n",
      "File \u001b[0;32m~/Documents/QuSpin/notes/../quspin/operators/quantum_operator_core.py:3\u001b[0m\n\u001b[1;32m      1\u001b[0m \u001b[39mfrom\u001b[39;00m \u001b[39m__future__\u001b[39;00m \u001b[39mimport\u001b[39;00m print_function, division, absolute_import\n\u001b[0;32m----> 3\u001b[0m \u001b[39mfrom\u001b[39;00m \u001b[39m.\u001b[39;00m\u001b[39m.\u001b[39;00m\u001b[39mbasis\u001b[39;00m \u001b[39mimport\u001b[39;00m spin_basis_1d \u001b[39mas\u001b[39;00m _default_basis\n\u001b[1;32m      4\u001b[0m \u001b[39mfrom\u001b[39;00m \u001b[39m.\u001b[39;00m\u001b[39m.\u001b[39;00m\u001b[39mbasis\u001b[39;00m \u001b[39mimport\u001b[39;00m isbasis \u001b[39mas\u001b[39;00m _isbasis\n\u001b[1;32m      6\u001b[0m \u001b[39m#from ._oputils import _get_matvec_function, matvec as _matvec\u001b[39;00m\n",
      "File \u001b[0;32m~/Documents/QuSpin/notes/../quspin/basis/__init__.py:130\u001b[0m\n\u001b[1;32m      1\u001b[0m \u001b[39m\"\"\"\u001b[39;00m\n\u001b[1;32m      2\u001b[0m \u001b[39m==================================\u001b[39;00m\n\u001b[1;32m      3\u001b[0m \u001b[39mBasis module (:mod:`quspin.basis`)\u001b[39;00m\n\u001b[0;32m   (...)\u001b[0m\n\u001b[1;32m    128\u001b[0m \n\u001b[1;32m    129\u001b[0m \u001b[39m\"\"\"\u001b[39;00m\n\u001b[0;32m--> 130\u001b[0m \u001b[39mfrom\u001b[39;00m \u001b[39m.\u001b[39;00m\u001b[39mbasis_1d\u001b[39;00m \u001b[39mimport\u001b[39;00m \u001b[39m*\u001b[39m\n\u001b[1;32m    131\u001b[0m \u001b[39mfrom\u001b[39;00m \u001b[39m.\u001b[39;00m\u001b[39mbasis_general\u001b[39;00m \u001b[39mimport\u001b[39;00m \u001b[39m*\u001b[39m\n\u001b[1;32m    132\u001b[0m \u001b[39mfrom\u001b[39;00m \u001b[39m.\u001b[39;00m\u001b[39mbase\u001b[39;00m \u001b[39mimport\u001b[39;00m \u001b[39m*\u001b[39m\n",
      "File \u001b[0;32m~/Documents/QuSpin/notes/../quspin/basis/basis_1d/__init__.py:1\u001b[0m\n\u001b[0;32m----> 1\u001b[0m \u001b[39mfrom\u001b[39;00m \u001b[39m.\u001b[39;00m\u001b[39mspin\u001b[39;00m \u001b[39mimport\u001b[39;00m spin_basis_1d\n\u001b[1;32m      2\u001b[0m \u001b[39mfrom\u001b[39;00m \u001b[39m.\u001b[39;00m\u001b[39mboson\u001b[39;00m \u001b[39mimport\u001b[39;00m boson_basis_1d\n\u001b[1;32m      3\u001b[0m \u001b[39mfrom\u001b[39;00m \u001b[39m.\u001b[39;00m\u001b[39mfermion\u001b[39;00m \u001b[39mimport\u001b[39;00m spinless_fermion_basis_1d,spinful_fermion_basis_1d\n",
      "File \u001b[0;32m~/Documents/QuSpin/notes/../quspin/basis/basis_1d/spin.py:1\u001b[0m\n\u001b[0;32m----> 1\u001b[0m \u001b[39mfrom\u001b[39;00m \u001b[39m.\u001b[39;00m\u001b[39m_basis_1d_core\u001b[39;00m \u001b[39mimport\u001b[39;00m hcp_basis,hcp_ops\n\u001b[1;32m      2\u001b[0m \u001b[39mfrom\u001b[39;00m \u001b[39m.\u001b[39;00m\u001b[39m_basis_1d_core\u001b[39;00m \u001b[39mimport\u001b[39;00m boson_basis,boson_ops\n\u001b[1;32m      3\u001b[0m \u001b[39mfrom\u001b[39;00m \u001b[39m.\u001b[39;00m\u001b[39mbase_1d\u001b[39;00m \u001b[39mimport\u001b[39;00m basis_1d\n",
      "File \u001b[0;32m~/Documents/QuSpin/notes/../quspin/basis/basis_1d/_basis_1d_core/__init__.py:1\u001b[0m\n\u001b[0;32m----> 1\u001b[0m \u001b[39mfrom\u001b[39;00m \u001b[39m.\u001b[39;00m \u001b[39mimport\u001b[39;00m hcp_basis,hcp_ops\n\u001b[1;32m      2\u001b[0m \u001b[39mfrom\u001b[39;00m \u001b[39m.\u001b[39;00m \u001b[39mimport\u001b[39;00m boson_basis,boson_ops\n\u001b[1;32m      3\u001b[0m \u001b[39mfrom\u001b[39;00m \u001b[39m.\u001b[39;00m \u001b[39mimport\u001b[39;00m spf_basis,spf_ops\n",
      "\u001b[0;31mImportError\u001b[0m: cannot import name 'hcp_basis' from partially initialized module 'quspin.basis.basis_1d._basis_1d_core' (most likely due to a circular import) (/home/kvanti/Documents/QuSpin/notes/../quspin/basis/basis_1d/_basis_1d_core/__init__.py)"
     ]
    }
   ],
   "source": [
    "from quspin.operators import hamiltonian_jax  # Hamiltonians and operators\n",
    "# Hilbert space spinful fermion basis\n",
    "from quspin.basis import spinless_fermion_basis_1d, tensor_basis\n",
    "import numpy as np  # generic math functions\n",
    "#\n",
    "##### define model parameters #####\n",
    "L = 6  # system size\n",
    "J = 1.0  # hopping strength\n",
    "U = np.sqrt(2)  # onsite interaction strength\n",
    "#\n",
    "# construct basis at half-filling in the 0-total momentum and +1-spin flip sector\n",
    "bup = spinless_fermion_basis_1d(L=L, Nf=L//2, a=1)\n",
    "bdown = spinless_fermion_basis_1d(L=L, Nf=L//2, a=1)\n",
    "basis = tensor_basis(bup, bdown)\n",
    "print(basis)\n",
    "#\n",
    "# define OBC site-coupling lists for operators\n",
    "# define site-coupling lists\n",
    "hop_right = [[-J, i, i+1] for i in range(L - 1)]  # hopping to the right OBC\n",
    "hop_left = [[J, i, i+1] for i in range(L - 1)]  # hopping to the left OBC\n",
    "int_list = [[U, i, i] for i in range(L)]  # onsite interaction\n",
    "# static and dynamic lists\n",
    "static = [\n",
    "    [\"+-|\", hop_left],  # up hop left\n",
    "    [\"-+|\", hop_right],  # up hop right\n",
    "    [\"|+-\", hop_left],  # down hop left\n",
    "    [\"|-+\", hop_right],  # down hop right\n",
    "    [\"n|n\", int_list],  # onsite interaction\n",
    "]\n",
    "dynamic = []\n",
    "# construct Hamiltonian\n",
    "no_checks = dict(check_pcon=False, check_symm=False, check_herm=False)\n",
    "H = hamiltonian_jax(static, dynamic, basis=basis,\n",
    "                    dtype=np.float64, **no_checks)\n"
   ]
  }
 ],
 "metadata": {
  "kernelspec": {
   "display_name": "quspin",
   "language": "python",
   "name": "python3"
  },
  "language_info": {
   "codemirror_mode": {
    "name": "ipython",
    "version": 3
   },
   "file_extension": ".py",
   "mimetype": "text/x-python",
   "name": "python",
   "nbconvert_exporter": "python",
   "pygments_lexer": "ipython3",
   "version": "3.10.8"
  },
  "orig_nbformat": 4,
  "vscode": {
   "interpreter": {
    "hash": "5a89abe51420e353a6df0f948232b971cbfd633eecf541b83a3320d83eee9ba3"
   }
  }
 },
 "nbformat": 4,
 "nbformat_minor": 2
}
